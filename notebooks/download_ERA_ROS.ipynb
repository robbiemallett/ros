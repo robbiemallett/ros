{
 "cells": [
  {
   "cell_type": "code",
   "execution_count": 1,
   "id": "involved-miracle",
   "metadata": {},
   "outputs": [],
   "source": [
    "from netCDF4 import Dataset\n",
    "import numpy as np\n",
    "import matplotlib.pyplot as plt"
   ]
  },
  {
   "cell_type": "code",
   "execution_count": 2,
   "id": "comparable-sigma",
   "metadata": {},
   "outputs": [
    {
     "data": {
      "text/plain": [
       "<class 'netCDF4._netCDF4.Dataset'>\n",
       "root group (NETCDF3_64BIT_OFFSET data model, file format NETCDF3):\n",
       "    Conventions: CF-1.6\n",
       "    history: 2021-02-24 05:07:34 GMT by grib_to_netcdf-2.16.0: /opt/ecmwf/eccodes/bin/grib_to_netcdf -S param -o /cache/data0/adaptor.mars.internal-1614142614.6418736-29072-11-1b55e62e-b125-41d2-879e-3869e6891fe0.nc /cache/tmp/1b55e62e-b125-41d2-879e-3869e6891fe0-adaptor.mars.internal-1614142614.6424637-29072-5-tmp.grib\n",
       "    dimensions(sizes): longitude(1440), latitude(121), time(2920)\n",
       "    variables(dimensions): float32 \u001b[4mlongitude\u001b[0m(longitude), float32 \u001b[4mlatitude\u001b[0m(latitude), int32 \u001b[4mtime\u001b[0m(time), int16 \u001b[4mu10\u001b[0m(time,latitude,longitude), int16 \u001b[4mv10\u001b[0m(time,latitude,longitude), int16 \u001b[4mt2m\u001b[0m(time,latitude,longitude), int16 \u001b[4mmsl\u001b[0m(time,latitude,longitude)\n",
       "    groups: "
      ]
     },
     "execution_count": 2,
     "metadata": {},
     "output_type": "execute_result"
    }
   ],
   "source": [
    "\n",
    "\n",
    "d = Dataset('/media/robbie/TOSHIBA EXT/E5/1982.nc')\n",
    "\n",
    "d"
   ]
  },
  {
   "cell_type": "code",
   "execution_count": 3,
   "id": "6e116291",
   "metadata": {},
   "outputs": [
    {
     "data": {
      "text/plain": [
       "[<matplotlib.lines.Line2D at 0x7fb966aa0810>]"
      ]
     },
     "execution_count": 3,
     "metadata": {},
     "output_type": "execute_result"
    },
    {
     "data": {
      "image/png": "[encoded data removed]",
      "text/plain": [
       "<Figure size 432x288 with 1 Axes>"
      ]
     },
     "metadata": {
      "needs_background": "light"
     },
     "output_type": "display_data"
    }
   ],
   "source": [
    "plt.plot([1,2,3],[1,2,4], 'r')"
   ]
  },
  {
   "cell_type": "code",
   "execution_count": null,
   "id": "understanding-mumbai",
   "metadata": {},
   "outputs": [
    {
     "name": "stderr",
     "output_type": "stream",
     "text": [
      "2021-08-17 13:13:57,578 INFO Welcome to the CDS\n",
      "2021-08-17 13:13:57,579 INFO Sending request to https://cds.climate.copernicus.eu/api/v2/resources/reanalysis-era5-single-levels\n",
      "2021-08-17 13:13:57,700 INFO Request is queued\n",
      "2021-08-17 13:13:58,721 INFO Request is running\n",
      "2021-08-17 13:15:12,877 INFO Request is completed\n",
      "2021-08-17 13:15:12,878 INFO Downloading https://download-0011.copernicus-climate.eu/cache-compute-0011/cache/data3/adaptor.mars.internal-1629202476.504791-5613-14-b492ef61-90b3-4624-b5b9-97b8447061e5.nc to 2020_09.nc (478.6M)\n",
      " 62%|██████▏   | 298M/479M [02:52<02:02, 1.55MB/s] "
     ]
    }
   ],
   "source": [
    "import cdsapi\n",
    "\n",
    "c = cdsapi.Client()\n",
    "\n",
    "# for year in reversed(np.arange(1992,2021)):\n",
    "for year in [2020]:\n",
    "    \n",
    "    year = str(year)\n",
    "    \n",
    "    c.retrieve(\n",
    "        'reanalysis-era5-single-levels',\n",
    "        {\n",
    "            'product_type': 'reanalysis',\n",
    "            'format': 'netcdf',\n",
    "            'variable': [\n",
    "                'precipitation_type',\n",
    "#                 'snowfall', \n",
    "                'total_precipitation', \n",
    "#                 '2m_temperature',\n",
    "            ],\n",
    "            'year': year,\n",
    "            'month': [\n",
    "#                 '01', '02', '03',\n",
    "#                 '04', '05', '06',\n",
    "#                 '07', '08',\n",
    "                '09',\n",
    "#                 '10', '11', '12',\n",
    "            ],\n",
    "            'day': [\n",
    "                '01', '02', '03',\n",
    "                '04', '05', '06',\n",
    "                '07', '08', '09',\n",
    "                '10', '11', '12',\n",
    "                '13', '14', '15',\n",
    "                '16', '17', '18',\n",
    "                '19', '20', '21',\n",
    "                '22', '23', '24',\n",
    "                '25', '26', '27',\n",
    "                '28', '29', '30',\n",
    "                '31',\n",
    "            ],\n",
    "            'time': [\n",
    "                '00:00', '01:00', '02:00',\n",
    "                '03:00', '04:00', '05:00',\n",
    "                '06:00', '07:00', '08:00',\n",
    "                '09:00', '10:00', '11:00',\n",
    "                '12:00', '13:00', '14:00',\n",
    "                '15:00', '16:00', '17:00',\n",
    "                '18:00', '19:00', '20:00',\n",
    "                '21:00', '22:00', '23:00',\n",
    "            ],\n",
    "            'grid':['0.25', '0.25'],\n",
    "            \"area\":[90,-180,60,180],\n",
    "        },\n",
    "        f'{year}_09.nc')"
   ]
  },
  {
   "cell_type": "code",
   "execution_count": null,
   "id": "3210da20",
   "metadata": {},
   "outputs": [],
   "source": []
  }
 ],
 "metadata": {
  "kernelspec": {
   "display_name": "Python 3",
   "language": "python",
   "name": "python3"
  },
  "language_info": {
   "codemirror_mode": {
    "name": "ipython",
    "version": 3
   },
   "file_extension": ".py",
   "mimetype": "text/x-python",
   "name": "python",
   "nbconvert_exporter": "python",
   "pygments_lexer": "ipython3",
   "version": "3.7.10"
  }
 },
 "nbformat": 4,
 "nbformat_minor": 5
}
