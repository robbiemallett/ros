{
 "cells": [
  {
   "cell_type": "code",
   "execution_count": 1,
   "id": "59a1f83c",
   "metadata": {},
   "outputs": [],
   "source": [
    "import csv\n",
    "from bs4 import BeautifulSoup\n",
    "import pandas as pd\n",
    "import requests"
   ]
  },
  {
   "cell_type": "code",
   "execution_count": 5,
   "id": "ae416d71",
   "metadata": {},
   "outputs": [
    {
     "name": "stdout",
     "output_type": "stream",
     "text": [
      "0\n"
     ]
    }
   ],
   "source": [
    "hansardurls = []\n",
    "for i in range(1,20):\n",
    "    url = 'https://hansard.parliament.uk/search/Debates?endDate=2019-10-28&house=Commons&searchTerm=%22Prime+Minister%22&startDate=2009-06-23&page={}&partial=true'.format(i)\n",
    "    rall = requests.get(url)\n",
    "    r = rall.content\n",
    "    soup = BeautifulSoup(r,\"lxml\")\n",
    "    titles = soup.find_all('a',class_=\"no-underline\")\n",
    "    for t in titles:\n",
    "        if t['title'].lower() == \"prime minister [house of commons]\":\n",
    "            hurl = 'https://hansard.parliament.uk'+t['href']\n",
    "            hansardurls.append(hurl)\n",
    "print(len(hansardurls))"
   ]
  },
  {
   "cell_type": "code",
   "execution_count": 14,
   "id": "814ec71a",
   "metadata": {},
   "outputs": [
    {
     "name": "stdout",
     "output_type": "stream",
     "text": [
      "[]\n",
      "[]\n",
      "[]\n",
      "[]\n",
      "[]\n",
      "[]\n",
      "[]\n",
      "[]\n",
      "[]\n",
      "[]\n",
      "[]\n",
      "[]\n",
      "[]\n",
      "[]\n",
      "[]\n",
      "[]\n",
      "[]\n",
      "[]\n",
      "[]\n",
      "0\n"
     ]
    }
   ],
   "source": [
    "hansardurls = []\n",
    "for i in range(1,20):\n",
    "    url = 'https://hansard.parliament.uk/search/Contributions?searchTerm=slippery%20slope&startDate=07%2F06%2F2016%2000%3A00%3A00&endDate=07%2F06%2F2021%2000%3A00%3A00'.format(i)\n",
    "    \n",
    "#     print(url)\n",
    "    \n",
    "    rall = requests.get(url)\n",
    "    r = rall.content\n",
    "    soup = BeautifulSoup(r,\"lxml\")\n",
    "    \n",
    "#     print(soup)\n",
    "    \n",
    "    \n",
    "    titles = soup.find_all('',class_=\"no-underline\")\n",
    "    \n",
    "    print(titles)\n",
    "    \n",
    "    for t in titles:\n",
    "        print(t)\n",
    "        if \"\" in t['title'].lower():\n",
    "            hurl = 'https://hansard.parliament.uk'+t['href']\n",
    "            hansardurls.append(hurl)\n",
    "print(len(hansardurls))"
   ]
  },
  {
   "cell_type": "code",
   "execution_count": null,
   "id": "1d093813",
   "metadata": {},
   "outputs": [],
   "source": []
  }
 ],
 "metadata": {
  "kernelspec": {
   "display_name": "Python 3",
   "language": "python",
   "name": "python3"
  },
  "language_info": {
   "codemirror_mode": {
    "name": "ipython",
    "version": 3
   },
   "file_extension": ".py",
   "mimetype": "text/x-python",
   "name": "python",
   "nbconvert_exporter": "python",
   "pygments_lexer": "ipython3",
   "version": "3.7.10"
  }
 },
 "nbformat": 4,
 "nbformat_minor": 5
}
